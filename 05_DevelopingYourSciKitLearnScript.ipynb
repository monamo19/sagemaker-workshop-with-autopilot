{
 "cells": [
  {
   "cell_type": "code",
   "execution_count": null,
   "metadata": {},
   "outputs": [],
   "source": [
    "import pandas as pd\n",
    "\n",
    "%env SM_OUTPUT_DATA_DIR=/tmp/output\n",
    "%env SM_MODEL_DIR=/tmp/model\n",
    "%env SM_CHANNEL_TRAIN=/tmp/train\n",
    "%env SM_CHANNEL_TEST=/tmp/test"
   ]
  },
  {
   "cell_type": "code",
   "execution_count": null,
   "metadata": {},
   "outputs": [],
   "source": [
    "!mkdir -p /tmp/train/\n",
    "!mkdir -p /tmp/model/\n",
    "!mkdir -p /tmp/test/\n",
    "raw_data = pd.read_csv('s3://sagemaker-workshop/2019-01-22/data/iris.csv', header=None, engine=\"python\") \n",
    "import pandas as pd\n",
    "import numpy as np\n",
    "from sklearn.model_selection import train_test_split\n",
    "\n",
    "train, test = train_test_split(raw_data, test_size=0.25)\n",
    "\n",
    "train.to_csv('/tmp/train/file.csv', index=False, header=False)\n",
    "train.to_csv('/tmp/test/file.csv', index=False, header=False)"
   ]
  },
  {
   "cell_type": "code",
   "execution_count": null,
   "metadata": {},
   "outputs": [],
   "source": [
    "!python3 scikit_learn_your_mission.py --max_leaf_nodes 3 --criterion=gini --splitter=random"
   ]
  },
  {
   "cell_type": "code",
   "execution_count": null,
   "metadata": {},
   "outputs": [],
   "source": [
    "from sklearn.externals import joblib\n",
    "!ls /tmp/model\n",
    "#SHOULD SEE A 'model.joblib' FILE\n",
    "clf2 = joblib.load(\"/tmp/model/model.joblib\")\n",
    "clf2.predict(raw_data.iloc[:,1:])"
   ]
  },
  {
   "cell_type": "code",
   "execution_count": null,
   "metadata": {},
   "outputs": [],
   "source": []
  }
 ],
 "metadata": {
  "kernelspec": {
   "display_name": "conda_python3",
   "language": "python",
   "name": "conda_python3"
  },
  "language_info": {
   "codemirror_mode": {
    "name": "ipython",
    "version": 3
   },
   "file_extension": ".py",
   "mimetype": "text/x-python",
   "name": "python",
   "nbconvert_exporter": "python",
   "pygments_lexer": "ipython3",
   "version": "3.6.5"
  }
 },
 "nbformat": 4,
 "nbformat_minor": 2
}
